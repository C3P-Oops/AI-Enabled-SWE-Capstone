{
 "cells": [
  {
   "cell_type": "code",
   "execution_count": 1,
   "id": "dd424987",
   "metadata": {},
   "outputs": [
    {
     "name": "stderr",
     "output_type": "stream",
     "text": [
      "2025-10-02 11:27:45,875 ag_aisoftdev.utils INFO LLM Client configured provider=google model=gemini-2.5-pro latency_ms=None artifacts_path=None\n"
     ]
    }
   ],
   "source": [
    "import sys\n",
    "import os\n",
    "import sqlite3\n",
    "\n",
    "model_name = 'gemini-2.5-pro'\n",
    "\n",
    "# Add the project's root directory to the Python path to ensure 'utils' can be imported.\n",
    "try:\n",
    "    project_root = os.path.abspath(os.path.join(os.getcwd(), '..'))\n",
    "except IndexError:\n",
    "    project_root = os.path.abspath(os.path.join(os.getcwd()))\n",
    "\n",
    "if project_root not in sys.path:\n",
    "    sys.path.insert(0, project_root)\n",
    "\n",
    "from utils import setup_llm_client, get_completion, save_artifact, load_artifact, clean_llm_output, prompt_enhancer\n",
    "\n",
    "client, model_name, api_provider = setup_llm_client(model_name=model_name)\n",
    "\n",
    "# Load the PRD from Day 1\n",
    "with open(\"../documents/template_PRD.md\", \"r\", encoding=\"utf-8\") as f:\n",
    "    prd_content = f.read()\n",
    "\n",
    "if not prd_content:\n",
    "    print(\"Warning: Could not load template_PRD.md. Lab may not function correctly.\")"
   ]
  },
  {
   "cell_type": "code",
   "execution_count": 15,
   "id": "4727d126",
   "metadata": {},
   "outputs": [
    {
     "name": "stdout",
     "output_type": "stream",
     "text": [
      "Generating SQL Schema...\n"
     ]
    }
   ],
   "source": [
    "schema_prompt = f\"\"\"You are a database administrator and SQLite expert. \n",
    "- Based on the following Product Requirements Document (PRD), generate a SQLite schema that includes tables, columns, data types, primary keys, foreign keys, and necessary constraints to effectively represent all of the data described in the PRD.\n",
    "- Ensure that the schema is normalized to at least the third normal form (3NF) to minimize redundancy and ensure data integrity.\n",
    "- Design the schema and include relationships between them. If there is a need for additional tables to represent many-to-many relationships or other entities, include those as well.\n",
    "- Extraneous information such as preferred communication methods, office hours, or other non-essential user preferences should not be included in the schema.\n",
    "- Use appropriate SQLite data types for each column based on the data described in the PRD. \n",
    "- Provide the SQLite schema in a single code block without any additional explanation or commentary.\n",
    "- Ensure that the timestamp fields use the appropriate SQLite data type and default values.\n",
    "- Ensure that related fields use on delete cascade where appropriate.\n",
    "- Only focus on generating data for version 1.0 as described in the PRD.\n",
    "- If a previous schema and seed generation comments are available, ensure that the new schema improves upon it by adding or removing tables, elements, or relationships based on the PRD and seed data generation comments.\n",
    "\n",
    "\n",
    "<PRD context>\n",
    "{prd_content}\n",
    "</PRD context>\n",
    "\n",
    "<Previous schema>\n",
    "{cleaned_schema if 'cleaned_schema' in locals() else 'Previous schema not available.'}\n",
    "</Previous schema>\n",
    "\n",
    "<Seed generation>\n",
    "{cleaned_seed_data if 'cleaned_seed_data' in locals() else 'Seed data not available.'}\n",
    "</Seed generation>\n",
    "\"\"\"\n",
    "\n",
    "# enhanced_prompt = prompt_enhancer(schema_prompt)\n",
    "\n",
    "print(\"Generating SQL Schema...\")\n",
    "if prd_content:\n",
    "    generated_schema = get_completion(schema_prompt, client, model_name, api_provider)\n",
    "\n",
    "    # Clean up the generated schema using our helper function\n",
    "    cleaned_schema = clean_llm_output(generated_schema, language='sql')\n",
    "    # print(cleaned_schema)\n",
    "    \n",
    "    with open(\"../documents/db_schema.sql\", \"w\", encoding=\"utf-8\") as f:\n",
    "         f.write(cleaned_schema)\n",
    "\n",
    "else:\n",
    "    print(\"Skipping schema generation because PRD is missing.\")\n",
    "    cleaned_schema = \"\""
   ]
  },
  {
   "cell_type": "code",
   "execution_count": 16,
   "id": "0c1bd181",
   "metadata": {},
   "outputs": [
    {
     "name": "stdout",
     "output_type": "stream",
     "text": [
      "--- Generating Seed Data ---\n"
     ]
    }
   ],
   "source": [
    "with open(\"../documents/db_schema.sql\", \"r\", encoding=\"utf-8\") as f:\n",
    "    cleaned_schema = f.read()\n",
    "\n",
    "seed_data_prompt = f'''You are a senior database administrator and SQLite expert. Using the following SQLite schema and Product Requirements Document (PRD), generate realistic and coherent seed data for all tables, ensuring that all foreign key and relational constraints are respected.\n",
    "- Populate all tables with appropriate data types and formats, using plausible values that reflect a real-world scenario for a tech company's onboarding system.\n",
    "- Ensure that users reference valid roles and teams, and that onboarding tasks reference valid users as creators.\n",
    "- Include at least 2 onboarding workflows, and assign tasks to workflows using the workflow_tasks table, with meaningful sequence_order values.\n",
    "- Populate user_onboarding_progress with at least 10 records, showing a mix of statuses and realistic dates, and referencing valid users, tasks, and workflows.\n",
    "- All data should be internally consistent and reflect plausible onboarding scenarios for a tech company.\n",
    "- Use appropriate INSERT statements for each table, and provide all statements in a single code block with no extra explanation. Do not include markdown or other formatting.\n",
    "- No additional tables should be created in the seed data.\n",
    "- If certain fields are not specified in the schema, use reasonable defaults (e.g., current date for created_at).\n",
    "- If a table is missing that would logically be needed to represent the data, generate a comment indicating the omission at the end of the file, but do not create the table.\n",
    "- If a table appears to be unnecessary based on the PRD, generate a comment indicating the redundancy at the end of the file, but do not create the table.\n",
    "- Use additional context from previous seed data generation comments to inform your seed data (if available).\n",
    "- Only focus on generating data for version 1.0 as described in the PRD.\n",
    "    - If features or tables from versions beyond 1.0 are present in the schema, add a comment at the end of the seed data indicating that they should not be included in the schema and do not generate seed data for them.\n",
    "\n",
    "<Previous seed data generation comments>\n",
    "{cleaned_seed_data if 'cleaned_seed_data' in locals() else 'N/A'}\n",
    "</Previous seed data generation comments>\n",
    "\n",
    "<SQLite Schema>\n",
    "{cleaned_schema}\n",
    "</SQLite Schema>\n",
    "\n",
    "<Product Requirements Document>\n",
    "{prd_content}\n",
    "</Product Requirements Document>\n",
    "'''\n",
    "\n",
    "print(\"--- Generating Seed Data ---\")\n",
    "if prd_content and cleaned_schema:\n",
    "    generated_seed_data = get_completion(seed_data_prompt, client, model_name, api_provider)\n",
    "    \n",
    "    # Clean up the generated seed data\n",
    "    cleaned_seed_data = clean_llm_output(generated_seed_data, language='sql')\n",
    "    # print(cleaned_seed_data)\n",
    "    \n",
    "    # Save the cleaned seed data\n",
    "    # save_artifact(cleaned_seed_data, 'artifacts/seed_data.sql', overwrite=True)\n",
    "    with open(\"../documents/seed_data.sql\", \"w\", encoding=\"utf-8\") as f:\n",
    "         f.write(cleaned_seed_data)\n",
    "else:\n",
    "    print(\"Skipping seed data generation because PRD or schema is missing.\")"
   ]
  }
 ],
 "metadata": {
  "kernelspec": {
   "display_name": ".venv",
   "language": "python",
   "name": "python3"
  },
  "language_info": {
   "codemirror_mode": {
    "name": "ipython",
    "version": 3
   },
   "file_extension": ".py",
   "mimetype": "text/x-python",
   "name": "python",
   "nbconvert_exporter": "python",
   "pygments_lexer": "ipython3",
   "version": "3.11.9"
  }
 },
 "nbformat": 4,
 "nbformat_minor": 5
}
