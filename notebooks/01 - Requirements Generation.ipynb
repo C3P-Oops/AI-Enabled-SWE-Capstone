{
 "cells": [
  {
   "cell_type": "markdown",
   "id": "b562c6ca",
   "metadata": {},
   "source": [
    "# Group 3\n",
    "\n",
    "Dave Carlson, Brooke, Daniel"
   ]
  },
  {
   "cell_type": "markdown",
   "id": "ba1dc153",
   "metadata": {},
   "source": [
    "## Imports and set up LLM client"
   ]
  },
  {
   "cell_type": "code",
   "execution_count": null,
   "id": "0039e14e",
   "metadata": {},
   "outputs": [],
   "source": [
    "import sys\n",
    "import os\n",
    "import json\n",
    "\n",
    "from IPython.display import display, Markdown, Code\n",
    "\n",
    "try:\n",
    "    project_root = os.path.abspath(os.path.join(os.getcwd(), '..'))\n",
    "except IndexError:\n",
    "    project_root = os.path.abspath(os.path.join(os.getcwd()))\n",
    "\n",
    "if project_root not in sys.path:\n",
    "    sys.path.append(project_root)\n",
    "\n",
    "from utils import setup_llm_client, prompt_enhancer, get_completion\n",
    "\n",
    "llm_model = \"gpt-4o\"\n",
    "\n",
    "client, model_name, api_provider = setup_llm_client(llm_model)\n",
    "\n",
    "def display_markdown(text):\n",
    "    display(Markdown(text))\n",
    "\n",
    "def display_code(code, language='json'):\n",
    "    display(Code(code, language=language))\n",
    "\n",
    "write_artifacts = False"
   ]
  },
  {
   "cell_type": "markdown",
   "id": "0d283df3",
   "metadata": {},
   "source": [
    "## Problem Statement"
   ]
  },
  {
   "cell_type": "code",
   "execution_count": null,
   "id": "17322ab3",
   "metadata": {},
   "outputs": [],
   "source": [
    "problem_statement = \"\"\"\n",
    "I am seeking a web application that can help me manage my personal finances more effectively. \n",
    "- The application should allow me to track my income and expenses, create budgets, and generate reports to visualize my spending patterns. \n",
    "- Additionally, I would like the app to provide reminders for upcoming bills and suggest ways to save money based on my spending habits. \n",
    "- The interface should be user-friendly and accessible from both desktop and mobile devices.\n",
    "\"\"\""
   ]
  },
  {
   "cell_type": "markdown",
   "id": "c510ee36",
   "metadata": {},
   "source": [
    "### Enhanced Problem Statement"
   ]
  },
  {
   "cell_type": "code",
   "execution_count": null,
   "id": "d6a59c12",
   "metadata": {},
   "outputs": [],
   "source": [
    "enhanced_problem_statement = prompt_enhancer(problem_statement)\n",
    "display_markdown(enhanced_problem_statement)"
   ]
  },
  {
   "cell_type": "markdown",
   "id": "f849523a",
   "metadata": {},
   "source": [
    "## Brainstorm Features"
   ]
  },
  {
   "cell_type": "code",
   "execution_count": null,
   "id": "7827586b",
   "metadata": {},
   "outputs": [],
   "source": [
    "# Set the output directory based on API provider and model\n",
    "output_dir = f\"../artifacts/documents/{api_provider}/{llm_model}\"\n",
    "os.makedirs(output_dir, exist_ok=True)\n",
    "\n",
    "# Brainstorm features prompt\n",
    "brainstorm_prompt = f\"\"\"\n",
    "Based on the problem statement, brainstorm a list of potential features that could address the problem.\n",
    "- Keep the list concise and focused on high-impact features.\n",
    "- Provide a brief description for each feature.\n",
    "- Format the output in a markdown list format without the ```markdown``` fences.\n",
    "\n",
    "<Problem Statement>\n",
    "{enhanced_problem_statement}\n",
    "</Problem Statement>\n",
    "\"\"\"\n",
    "\n",
    "brainstormed_features = get_completion(brainstorm_prompt, client, model_name, api_provider)\n",
    "display(Markdown(brainstormed_features))\n",
    "\n",
    "if write_artifacts:\n",
    "    with open(os.path.join(output_dir, \"brainstormed_features.md\"), \"w\") as f:\n",
    "        f.write(brainstormed_features)"
   ]
  },
  {
   "cell_type": "markdown",
   "id": "67d3e87e",
   "metadata": {},
   "source": [
    "## Generate User Personas"
   ]
  },
  {
   "cell_type": "code",
   "execution_count": null,
   "id": "95bd2840",
   "metadata": {},
   "outputs": [],
   "source": [
    "personas_prompt = f\"\"\"\n",
    "<Prompt Instructions>\n",
    "Based on the problem statement and the brainstormed features, identify at least three, but no more than five, unique user personas who would benefit from this tool. \n",
    "- The roles and their experience should vary between each persona. \n",
    "- Include a mix of technical and non-technical users.\n",
    "- Provide the following for each persona:\n",
    "  - Name\n",
    "  - Role\n",
    "  - Experience Level\n",
    "  - Goals\n",
    "  - Challenges\n",
    "  - How this tool can help\n",
    "- Format the output in a markdown list format without the ```markdown``` fences.\n",
    "</Prompt Instructions>\n",
    "\n",
    "<Problem Statement>   \n",
    "{enhanced_problem_statement}\n",
    "</Problem Statement>\n",
    "\n",
    "<Brainstormed Features>\n",
    "{brainstormed_features}\n",
    "</Brainstormed Features>\"\"\"\n",
    "\n",
    "user_personas = get_completion(personas_prompt, client, model_name, api_provider)\n",
    "display_markdown(user_personas)\n",
    "\n",
    "if write_artifacts:\n",
    "    with open(os.path.join(output_dir, \"user_personas.md\"), \"w\") as f:\n",
    "        f.write(user_personas)"
   ]
  },
  {
   "cell_type": "markdown",
   "id": "26be3d1c",
   "metadata": {},
   "source": [
    "## Generate User Stories"
   ]
  },
  {
   "cell_type": "code",
   "execution_count": null,
   "id": "1d53a936",
   "metadata": {},
   "outputs": [],
   "source": [
    "personas_prompt = f\"\"\"\n",
    "<Prompt Instructions>\n",
    "You are a senior product manager.\n",
    "- Based on the problem statement, brainstormed features, and user personas, create at least three but no more than five user stories per persona.\n",
    "- Your output should be a properly-structured JSON with no markdown fences.\n",
    "- Each user story should contain the following keys:\n",
    "    - \"ID\": A unique identifier for the user story in a two-digit format with a leading zero.\n",
    "    - \"persona\": The persona this user story is for.\n",
    "    - \"user_story\": A brief description of the user story.\n",
    "    - \"acceptance_criteria\": A list of at least three acceptance criteria for the user story, written in Gherkin format i.e., given/when/then statements.\n",
    "- Ensure the output is only valid JSON code and can be parsed without errors.\n",
    "</Prompt Instructions>\n",
    "\n",
    "<Problem Statement>\n",
    "{enhanced_problem_statement}\n",
    "</Problem Statement>\n",
    "\n",
    "<Brainstormed Features>\n",
    "{brainstormed_features}\n",
    "</Brainstormed Features>\n",
    "\n",
    "<User Personas>\n",
    "{user_personas}\n",
    "</User Personas>\"\"\"\n",
    "\n",
    "print(\"Generating user stories...\")\n",
    "user_stories = get_completion(personas_prompt, client, model_name, api_provider)\n",
    "\n",
    "try:\n",
    "    if \"```\" in user_stories:\n",
    "        user_stories = user_stories.split(\"```\")[1].lstrip(\"json\").strip()\n",
    "        user_stories = json.loads(user_stories)\n",
    "        print(\"Successfully parsed user stories JSON.\")\n",
    "\n",
    "    user_stories = json.loads(user_stories)\n",
    "    print(json.dumps(user_stories, indent=4))\n",
    "    if write_artifacts:\n",
    "        with open(os.path.join(output_dir, \"user_stories.json\"), \"w\") as f:\n",
    "            json.dump(user_stories, f, indent=4)\n",
    "\n",
    "except (json.JSONDecodeError, TypeError, IndexError) as e:\n",
    "    print(f\"Error: Failed to parse LLM output as JSON. \\nError: {e}\")\n",
    "    print(f\"LLM Output:\\n{user_stories}\")\n",
    "    user_stories = []\n"
   ]
  }
 ],
 "metadata": {
  "kernelspec": {
   "display_name": ".venv",
   "language": "python",
   "name": "python3"
  },
  "language_info": {
   "codemirror_mode": {
    "name": "ipython",
    "version": 3
   },
   "file_extension": ".py",
   "mimetype": "text/x-python",
   "name": "python",
   "nbconvert_exporter": "python",
   "pygments_lexer": "ipython3",
   "version": "3.11.9"
  }
 },
 "nbformat": 4,
 "nbformat_minor": 5
}
