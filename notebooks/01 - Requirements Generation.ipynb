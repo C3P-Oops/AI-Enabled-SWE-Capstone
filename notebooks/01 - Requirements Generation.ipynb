{
 "cells": [
  {
   "cell_type": "markdown",
   "id": "b562c6ca",
   "metadata": {},
   "source": [
    "# Group 3\n",
    "\n",
    "Dave Carlson, Brooke, Daniel"
   ]
  },
  {
   "cell_type": "markdown",
   "id": "ba1dc153",
   "metadata": {},
   "source": [
    "## Imports and set up LLM client"
   ]
  },
  {
   "cell_type": "code",
   "execution_count": 1,
   "id": "0039e14e",
   "metadata": {},
   "outputs": [
    {
     "name": "stderr",
     "output_type": "stream",
     "text": [
      "2025-10-02 09:25:18,165 ag_aisoftdev.utils INFO LLM Client configured provider=openai model=gpt-4o latency_ms=None artifacts_path=None\n"
     ]
    }
   ],
   "source": [
    "import sys\n",
    "import os\n",
    "import json\n",
    "\n",
    "from IPython.display import display, Markdown, Code\n",
    "\n",
    "try:\n",
    "    project_root = os.path.abspath(os.path.join(os.getcwd(), '..'))\n",
    "except IndexError:\n",
    "    project_root = os.path.abspath(os.path.join(os.getcwd()))\n",
    "\n",
    "if project_root not in sys.path:\n",
    "    sys.path.append(project_root)\n",
    "\n",
    "from utils import setup_llm_client, prompt_enhancer, get_completion\n",
    "\n",
    "llm_model = \"gpt-4o\"\n",
    "\n",
    "client, model_name, api_provider = setup_llm_client(llm_model)\n",
    "\n",
    "def display_markdown(text):\n",
    "    display(Markdown(text))\n",
    "\n",
    "def display_code(code, language='json'):\n",
    "    display(Code(code, language=language))\n",
    "\n",
    "write_artifacts = True"
   ]
  },
  {
   "cell_type": "markdown",
   "id": "0d283df3",
   "metadata": {},
   "source": [
    "## Problem Statement"
   ]
  },
  {
   "cell_type": "code",
   "execution_count": 12,
   "id": "17322ab3",
   "metadata": {},
   "outputs": [],
   "source": [
    "problem_statement = \"\"\"\n",
    "I am seeking a web application that can help my company track job applicants. \n",
    "- The application should allow HR staff to input and store applicant information, including resumes, cover letters, and contact details.\n",
    "- It should also enable the tracking of the application status, interview feedback, and hiring decisions.\n",
    "- The application should not include user authentication or role-based access control features.\n",
    "- The application should be a React frontend using Fetch with a FastAPI backend and a SQLite database.\n",
    "- Files should be uploaded as files on disk with path references in the database.\n",
    "- You are brainstorming features for this application; do not generate code yet.\n",
    "\"\"\""
   ]
  },
  {
   "cell_type": "markdown",
   "id": "c510ee36",
   "metadata": {},
   "source": [
    "### Enhanced Problem Statement"
   ]
  },
  {
   "cell_type": "code",
   "execution_count": 13,
   "id": "d6a59c12",
   "metadata": {},
   "outputs": [
    {
     "name": "stderr",
     "output_type": "stream",
     "text": [
      "2025-10-02 09:48:09,612 ag_aisoftdev.utils INFO LLM Client configured provider=openai model=o3 latency_ms=None artifacts_path=None\n"
     ]
    },
    {
     "data": {
      "text/markdown": [
       "<persona>\n",
       "You are a Senior HR-Tech Product Manager with deep experience designing lightweight applicant-tracking web applications for small to mid-sized companies.\n",
       "</persona>\n",
       "\n",
       "<context>\n",
       "The company needs an internal-use applicant-tracking system (ATS).  \n",
       "Key constraints and definitions:\n",
       "• Tech stack: React frontend (using Fetch), FastAPI backend, SQLite database.  \n",
       "• File handling: Resumes, cover letters, or other attachments are stored on disk; the DB only keeps their file-path references.  \n",
       "• Security scope: No user authentication or role-based access control will be included.  \n",
       "• Objective of this session: Brainstorm a comprehensive, well-organized set of features. You will NOT write any code.  \n",
       "• Target audience: The brainstorming list will be reviewed by both HR stakeholders and the engineering team.\n",
       "</context>\n",
       "\n",
       "<instructions>\n",
       "1. Think step by step—plan your reasoning internally before composing the visible answer. Do not expose your chain-of-thought.  \n",
       "2. Generate a detailed, well-structured feature list that:  \n",
       "   a. Covers core functionality (data capture, status tracking, interview feedback, hiring decisions).  \n",
       "   b. Addresses usability (UI/UX) and operational considerations (performance, data integrity, file handling).  \n",
       "   c. Highlights non-functional requirements relevant to the stated constraints (e.g., lightweight architecture, ease of deployment).  \n",
       "   d. Includes at least one suggestion for future scalability or optional add-ons that could be implemented later.  \n",
       "3. Do not include any code, schema definitions, or authentication features.  \n",
       "4. Adhere strictly to the output format.\n",
       "</instructions>\n",
       "\n",
       "<output_format>\n",
       "Return a Markdown document with the following sections:\n",
       "\n",
       "# Feature Brainstorm\n",
       "\n",
       "## 1. Core Features  \n",
       "• … (bulleted list)\n",
       "\n",
       "## 2. Enhancements & Quality-of-Life Features  \n",
       "• …\n",
       "\n",
       "## 3. Non-Functional Requirements  \n",
       "• …\n",
       "\n",
       "## 4. Future / Optional Add-Ons (Outside Current Scope)  \n",
       "• …\n",
       "\n",
       "(Use concise, descriptive bullet points; avoid paragraphs.)\n",
       "</output_format>"
      ],
      "text/plain": [
       "<IPython.core.display.Markdown object>"
      ]
     },
     "metadata": {},
     "output_type": "display_data"
    }
   ],
   "source": [
    "enhanced_problem_statement = prompt_enhancer(problem_statement)\n",
    "display_markdown(enhanced_problem_statement)"
   ]
  },
  {
   "cell_type": "markdown",
   "id": "f849523a",
   "metadata": {},
   "source": [
    "## Brainstorm Features"
   ]
  },
  {
   "cell_type": "code",
   "execution_count": 15,
   "id": "7827586b",
   "metadata": {},
   "outputs": [
    {
     "data": {
      "text/markdown": [
       "# Feature Brainstorm\n",
       "\n",
       "## 1. Core Features  \n",
       "• **Job Posting Management**: Create, update, and archive job listings with details like title, description, and requirements.  \n",
       "• **Applicant Data Capture**: Store and manage applicant details, including personal information and submitted documents.  \n",
       "• **Resume and Attachment Handling**: Efficiently link file paths for resumes and cover letters stored on disk.  \n",
       "• **Application Status Tracking**: Allow tracking of applicant statuses (e.g., Applied, Interviewing, Rejected, Hired).  \n",
       "• **Interview Scheduling**: Integration to schedule interviews, possibly linking with a calendar API for reminders.  \n",
       "• **Feedback and Notes**: Capture interview feedback and notes from HR and interviewers in a structured format.  \n",
       "• **Hiring Decision Log**: Record final hiring decisions and reasons for easy reference and reporting.\n",
       "\n",
       "## 2. Enhancements & Quality-of-Life Features  \n",
       "• **Search and Filter**: Enhance search capability for job postings and applicants by keywords, status, and other criteria.  \n",
       "• **Bulk Actions**: Enable bulk actions for common tasks like status updates or email notifications.  \n",
       "• **Responsive UI Design**: Ensure the interface is mobile-friendly and accessible on various devices.  \n",
       "• **Intuitive Navigation**: Implement a clear and easy-to-navigate user interface to reduce training requirements.  \n",
       "• **Automated Email Notifications**: Send automated status updates to candidates at various stages of the process.\n",
       "\n",
       "## 3. Non-Functional Requirements  \n",
       "• **Lightweight Architecture**: Ensure the system is minimalistic and performs well within the React and FastAPI stack.  \n",
       "• **Ease of Deployment**: Simplify deployment processes to allow seamless setup and updates.  \n",
       "• **Data Integrity**: Implement measures to ensure data consistency and correctness within the SQLite database.  \n",
       "• **File Handling Performance**: Optimize file I/O operations to minimize server load and improve response times.  \n",
       "• **Scalability Considerations**: Design data structures and workflows to handle increased data volume gracefully.\n",
       "\n",
       "## 4. Future / Optional Add-Ons (Outside Current Scope)  \n",
       "• **Analytics & Reporting**: Develop analytics dashboards for insights into hiring trends and process efficiency.  \n",
       "• **Candidate Portal**: Create a login-free portal for candidates to check application status and updates.  \n",
       "• **Role-Based Access Control**: Introduce permissions for different user types to enhance security and functionality.  \n",
       "• **Third-Party Integrations**: Connect with other HR tools, such as LinkedIn or HRIS systems, for data sharing and enrichment.  \n",
       "• **Machine Learning for Resume Screening**: Implement AI to automatically rank resumes based on job fit criteria."
      ],
      "text/plain": [
       "<IPython.core.display.Markdown object>"
      ]
     },
     "metadata": {},
     "output_type": "display_data"
    }
   ],
   "source": [
    "# Set the output directory based on API provider and model\n",
    "output_dir = f\"../artifacts/documents/{api_provider}/{llm_model}\"\n",
    "os.makedirs(output_dir, exist_ok=True)\n",
    "\n",
    "# Brainstorm features prompt\n",
    "brainstorm_prompt = f\"\"\"\n",
    "Based on the problem statement, brainstorm a list of potential features that could address the problem.\n",
    "- Keep the list concise and focused on high-impact features.\n",
    "- Provide a brief description for each feature.\n",
    "- Format the output in a markdown list format without the ```markdown``` fences.\n",
    "\n",
    "<Problem Statement>\n",
    "{enhanced_problem_statement}\n",
    "</Problem Statement>\n",
    "\"\"\"\n",
    "\n",
    "brainstormed_features = get_completion(brainstorm_prompt, client, model_name, api_provider)\n",
    "display(Markdown(brainstormed_features))\n",
    "\n",
    "if write_artifacts:\n",
    "    with open(os.path.join(output_dir, \"brainstormed_features.md\"), \"w\") as f:\n",
    "        f.write(brainstormed_features)"
   ]
  },
  {
   "cell_type": "markdown",
   "id": "67d3e87e",
   "metadata": {},
   "source": [
    "## Generate User Personas"
   ]
  },
  {
   "cell_type": "code",
   "execution_count": 29,
   "id": "95bd2840",
   "metadata": {},
   "outputs": [
    {
     "data": {
      "text/markdown": [
       "- **Name**: Sarah Thompson  \n",
       "  - **Role**: HR Manager  \n",
       "  - **Experience Level**: Intermediate (5 years in HR, 2 years in recruitment)  \n",
       "  - **Goals**: Streamline the recruitment process to reduce time-to-hire and improve candidate experience.  \n",
       "  - **Challenges**: Managing large volumes of applicants and coordinating interview schedules efficiently.  \n",
       "  - **How this tool can help**: The applicant-tracking system (ATS) will help Sarah track applicant statuses, schedule interviews, and manage feedback, all in one place, improving efficiency and organization.\n",
       "\n",
       "- **Name**: Mark Johnson  \n",
       "  - **Role**: Software Engineer  \n",
       "  - **Experience Level**: Senior (10 years in software development)  \n",
       "  - **Goals**: Ensure the ATS is technically robust and integrates well with existing systems.  \n",
       "  - **Challenges**: Balancing feature richness with system performance and maintaining data integrity.  \n",
       "  - **How this tool can help**: The lightweight architecture and ease of deployment align with Mark’s goals by providing a streamlined solution that can be easily maintained and scaled as needed.\n",
       "\n",
       "- **Name**: Emily Nguyen  \n",
       "  - **Role**: Project Manager  \n",
       "  - **Experience Level**: Junior (2 years in project management)  \n",
       "  - **Goals**: Assemble a skilled team quickly and efficiently, ensuring project timelines are met.  \n",
       "  - **Challenges**: Reviewing and selecting the right candidates to fit specific project needs.  \n",
       "  - **How this tool can help**: The ATS will allow Emily to filter and search for candidates quickly, access interview feedback, and make informed hiring decisions based on comprehensive data.\n",
       "\n",
       "- **Name**: David Lee  \n",
       "  - **Role**: IT Support Specialist  \n",
       "  - **Experience Level**: Mid-level (6 years in IT support)  \n",
       "  - **Goals**: Provide technical assistance and ensure smooth operation of the ATS.  \n",
       "  - **Challenges**: Addressing technical issues swiftly and ensuring system uptime.  \n",
       "  - **How this tool can help**: With its intuitive navigation and responsive UI design, the ATS will minimize user errors, reducing the volume of support requests and enabling David to focus on optimizing system performance.\n",
       "\n",
       "- **Name**: Jessica Brown  \n",
       "  - **Role**: Recruitment Consultant  \n",
       "  - **Experience Level**: Expert (15 years in recruitment)  \n",
       "  - **Goals**: Enhance candidate engagement and improve hiring process outcomes.  \n",
       "  - **Challenges**: Managing candidate relationships and ensuring timely communication.  \n",
       "  - **How this tool can help**: Automated email notifications and a candidate portal will help Jessica maintain engagement and keep candidates informed throughout the hiring process, improving overall satisfaction."
      ],
      "text/plain": [
       "<IPython.core.display.Markdown object>"
      ]
     },
     "metadata": {},
     "output_type": "display_data"
    }
   ],
   "source": [
    "personas_prompt = f\"\"\"\n",
    "<Prompt Instructions>\n",
    "Based on the problem statement and the brainstormed features, identify at least three, but no more than five, unique user personas who would benefit from this tool. \n",
    "- The roles and their experience should vary between each persona. \n",
    "- Include a mix of users who will benefit from the application within their technical skills.\n",
    "- Consider the needs of project managers who will review candidates for their teams.\n",
    "- Provide the following for each persona:\n",
    "  - Name\n",
    "  - Role\n",
    "  - Experience Level\n",
    "  - Goals\n",
    "  - Challenges\n",
    "  - How this tool can help\n",
    "- Format the output in a markdown list format without the ```markdown``` fences.\n",
    "</Prompt Instructions>\n",
    "\n",
    "<Problem Statement>   \n",
    "{enhanced_problem_statement}\n",
    "</Problem Statement>\n",
    "\n",
    "<Brainstormed Features>\n",
    "{brainstormed_features}\n",
    "</Brainstormed Features>\"\"\"\n",
    "\n",
    "user_personas = get_completion(personas_prompt, client, model_name, api_provider)\n",
    "display_markdown(user_personas)\n",
    "\n",
    "if write_artifacts:\n",
    "    with open(os.path.join(output_dir, \"user_personas.md\"), \"w\") as f:\n",
    "        f.write(user_personas)"
   ]
  },
  {
   "cell_type": "markdown",
   "id": "26be3d1c",
   "metadata": {},
   "source": [
    "## Generate User Stories"
   ]
  },
  {
   "cell_type": "code",
   "execution_count": 30,
   "id": "1d53a936",
   "metadata": {},
   "outputs": [
    {
     "name": "stdout",
     "output_type": "stream",
     "text": [
      "Generating user stories...\n",
      "[\n",
      "    {\n",
      "        \"ID\": \"01\",\n",
      "        \"persona\": \"Sarah Martinez\",\n",
      "        \"user_story\": \"As an HR Manager, I want to efficiently capture and manage applicant data to streamline the hiring process.\",\n",
      "        \"acceptance_criteria\": [\n",
      "            \"Given an applicant submits their information, when the data is saved, then I should see all applicant details in the ATS.\",\n",
      "            \"Given an applicant's status changes, when I update the status, then it should reflect accurately in the system.\",\n",
      "            \"Given a large number of applications, when I use the ATS, then I should be able to perform bulk actions like status updates.\"\n",
      "        ]\n",
      "    },\n",
      "    {\n",
      "        \"ID\": \"02\",\n",
      "        \"persona\": \"Sarah Martinez\",\n",
      "        \"user_story\": \"As an HR Manager, I want automated email notifications to be sent to candidates, ensuring consistent communication.\",\n",
      "        \"acceptance_criteria\": [\n",
      "            \"Given an applicant's status changes, when the status is updated, then an email notification should be sent automatically to the applicant.\",\n",
      "            \"Given a scheduled interview, when the date approaches, then a reminder email should be sent to the applicant.\",\n",
      "            \"Given a rejected application, when the status is marked as rejected, then an appropriate email should be sent to the applicant.\"\n",
      "        ]\n",
      "    },\n",
      "    {\n",
      "        \"ID\": \"03\",\n",
      "        \"persona\": \"James Liu\",\n",
      "        \"user_story\": \"As a Recruitment Coordinator, I want to schedule interviews through the ATS to manage logistics efficiently.\",\n",
      "        \"acceptance_criteria\": [\n",
      "            \"Given an applicant needs to be interviewed, when I input their details, then the ATS should allow scheduling with a calendar API.\",\n",
      "            \"Given a scheduled interview, when the date is set, then all relevant stakeholders should receive a notification.\",\n",
      "            \"Given a change in interview schedule, when the update is made, then all involved parties should be notified of the change.\"\n",
      "        ]\n",
      "    },\n",
      "    {\n",
      "        \"ID\": \"04\",\n",
      "        \"persona\": \"James Liu\",\n",
      "        \"user_story\": \"As a Recruitment Coordinator, I want to access all relevant applicant information in a centralized format to streamline the hiring process.\",\n",
      "        \"acceptance_criteria\": [\n",
      "            \"Given an applicant's profile, when I view it, then it should display all their submitted documents and information.\",\n",
      "            \"Given feedback from interviewers, when I check the applicant's profile, then I should see all feedback and notes related to the applicant.\",\n",
      "            \"Given an applicant's status, when I view their profile, then it should clearly show their current application status.\"\n",
      "        ]\n",
      "    },\n",
      "    {\n",
      "        \"ID\": \"05\",\n",
      "        \"persona\": \"Rachel Green\",\n",
      "        \"user_story\": \"As a Hiring Manager, I want to view comprehensive feedback and notes to make informed hiring decisions.\",\n",
      "        \"acceptance_criteria\": [\n",
      "            \"Given an applicant has been interviewed, when I access their profile, then I should see all feedback from the interviewers.\",\n",
      "            \"Given multiple applicants, when I compare them, then I should easily access all feedback and notes for each candidate.\",\n",
      "            \"Given a decision needs to be made, when I review the notes, then I should have a clear understanding of each candidate's strengths and weaknesses.\"\n",
      "        ]\n",
      "    },\n",
      "    {\n",
      "        \"ID\": \"06\",\n",
      "        \"persona\": \"Rachel Green\",\n",
      "        \"user_story\": \"As a Hiring Manager, I want to maintain a clear decision log for each candidate to track hiring decisions and reasons.\",\n",
      "        \"acceptance_criteria\": [\n",
      "            \"Given a hiring decision is made, when I record it, then the decision should be logged with a timestamp and reason.\",\n",
      "            \"Given a candidate's profile, when I view the decision log, then it should show all past decisions and reasons for reference.\",\n",
      "            \"Given multiple decision logs, when I filter them, then I should be able to sort and search by date or decision type.\"\n",
      "        ]\n",
      "    },\n",
      "    {\n",
      "        \"ID\": \"07\",\n",
      "        \"persona\": \"Emily Nguyen\",\n",
      "        \"user_story\": \"As a Project Manager, I want to quickly filter and search for candidates to assemble a skilled team efficiently.\",\n",
      "        \"acceptance_criteria\": [\n",
      "            \"Given a list of applicants, when I use the search function, then I should be able to filter candidates by keywords, skills, or status.\",\n",
      "            \"Given specific project needs, when I filter candidates, then the ATS should return a list of suitable candidates.\",\n",
      "            \"Given a search is performed, when results are displayed, then they should be relevant and ordered by the selected criteria.\"\n",
      "        ]\n",
      "    },\n",
      "    {\n",
      "        \"ID\": \"08\",\n",
      "        \"persona\": \"Emily Nguyen\",\n",
      "        \"user_story\": \"As a Project Manager, I want to access comprehensive data and interview feedback to make informed hiring decisions.\",\n",
      "        \"acceptance_criteria\": [\n",
      "            \"Given an applicant's profile, when I view it, then it should include all relevant data and feedback from interviews.\",\n",
      "            \"Given feedback from multiple interviewers, when I review it, then I should be able to see a consolidated view of all input.\",\n",
      "            \"Given a hiring decision, when I make it, then it should be based on complete and accurate information from the ATS.\"\n",
      "        ]\n",
      "    }\n",
      "]\n"
     ]
    }
   ],
   "source": [
    "with open(\"../documents/brainstormed_features.md\", \"r\") as f:\n",
    "    brainstormed_features = f.read()\n",
    "\n",
    "with open(\"../documents/user_personas.md\", \"r\") as f:\n",
    "    user_personas = f.read()\n",
    "\n",
    "personas_prompt = f\"\"\"\n",
    "<Prompt Instructions>\n",
    "You are a senior product manager.\n",
    "- Based on the problem statement, brainstormed features, and user personas, create at least three but no more than five user stories per persona.\n",
    "- Your output should be a properly-structured JSON with no markdown fences.\n",
    "- Each user story should contain the following keys:\n",
    "    - \"ID\": A unique identifier for the user story in a two-digit format with a leading zero.\n",
    "    - \"persona\": The persona this user story is for.\n",
    "    - \"user_story\": A brief description of the user story.\n",
    "    - \"acceptance_criteria\": A list of at least three acceptance criteria for the user story, written in Gherkin format i.e., given/when/then statements.\n",
    "- Ensure the output is only valid JSON code and can be parsed without errors.\n",
    "</Prompt Instructions>\n",
    "\n",
    "<Problem Statement>\n",
    "{enhanced_problem_statement}\n",
    "</Problem Statement>\n",
    "\n",
    "<Brainstormed Features>\n",
    "{brainstormed_features}\n",
    "</Brainstormed Features>\n",
    "\n",
    "<User Personas>\n",
    "{user_personas}\n",
    "</User Personas>\"\"\"\n",
    "\n",
    "print(\"Generating user stories...\")\n",
    "user_stories = get_completion(personas_prompt, client, model_name, api_provider)\n",
    "\n",
    "try:\n",
    "    if \"```\" in user_stories:\n",
    "        user_stories = user_stories.split(\"```\")[1].lstrip(\"json\").strip()\n",
    "        user_stories = json.loads(user_stories)\n",
    "        print(\"Successfully parsed user stories JSON.\")\n",
    "\n",
    "    user_stories = json.loads(user_stories)\n",
    "    print(json.dumps(user_stories, indent=4))\n",
    "    if write_artifacts:\n",
    "        with open(os.path.join(output_dir, \"user_stories.json\"), \"w\") as f:\n",
    "            json.dump(user_stories, f, indent=4)\n",
    "\n",
    "except (json.JSONDecodeError, TypeError, IndexError) as e:\n",
    "    print(f\"Error: Failed to parse LLM output as JSON. \\nError: {e}\")\n",
    "    print(f\"LLM Output:\\n{user_stories}\")\n",
    "    user_stories = []\n"
   ]
  }
 ],
 "metadata": {
  "kernelspec": {
   "display_name": ".venv",
   "language": "python",
   "name": "python3"
  },
  "language_info": {
   "codemirror_mode": {
    "name": "ipython",
    "version": 3
   },
   "file_extension": ".py",
   "mimetype": "text/x-python",
   "name": "python",
   "nbconvert_exporter": "python",
   "pygments_lexer": "ipython3",
   "version": "3.11.9"
  }
 },
 "nbformat": 4,
 "nbformat_minor": 5
}
