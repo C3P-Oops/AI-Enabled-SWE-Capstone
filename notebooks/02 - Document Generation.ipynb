{
 "cells": [
  {
   "cell_type": "markdown",
   "id": "891b7ad0",
   "metadata": {},
   "source": [
    "# Group 3\n",
    "\n",
    "## Document Generation"
   ]
  },
  {
   "cell_type": "markdown",
   "id": "4a063ee0",
   "metadata": {},
   "source": [
    "## Imports and set up LLM client"
   ]
  },
  {
   "cell_type": "code",
   "execution_count": null,
   "id": "1da085c0",
   "metadata": {},
   "outputs": [],
   "source": [
    "import sys\n",
    "import os\n",
    "import json\n",
    "\n",
    "model_name = 'claude-sonnet-4-20250514'\n",
    "write_artifacts = False\n",
    "\n",
    "try:\n",
    "    # Assumes the notebook is in 'labs/Day_01_.../'\n",
    "    project_root = os.path.abspath(os.path.join(os.getcwd(), '..'))\n",
    "except IndexError:\n",
    "    # Fallback for different execution environments\n",
    "    project_root = os.path.abspath(os.path.join(os.getcwd()))\n",
    "\n",
    "if project_root not in sys.path:\n",
    "    sys.path.insert(0, project_root)\n",
    "\n",
    "from utils import setup_llm_client, get_completion, save_artifact, load_artifact, prompt_enhancer\n",
    "\n",
    "client, model_name, api_provider = setup_llm_client(model_name=model_name)\n"
   ]
  },
  {
   "cell_type": "markdown",
   "id": "7ee0fb12",
   "metadata": {},
   "source": [
    "## Read in outputs from requirements generation step"
   ]
  },
  {
   "cell_type": "code",
   "execution_count": null,
   "id": "b9ccc80c",
   "metadata": {},
   "outputs": [],
   "source": [
    "# Set the output directory based on API provider and model\n",
    "output_dir = f\"../documents\"\n",
    "os.makedirs(output_dir, exist_ok=True)\n",
    "\n",
    "with open(os.path.join(output_dir, \"brainstormed_features.md\"), \"r\") as f:\n",
    "    brainstormed_features = f.read()\n",
    "\n",
    "with open(os.path.join(output_dir, \"user_personas.md\"), \"r\") as f:\n",
    "    user_personas = f.read()\n",
    "    \n",
    "with open(os.path.join(output_dir, \"user_stories.json\"), \"r\") as f:\n",
    "    user_stories = f.read()"
   ]
  }
 ],
 "metadata": {
  "language_info": {
   "name": "python"
  }
 },
 "nbformat": 4,
 "nbformat_minor": 5
}
