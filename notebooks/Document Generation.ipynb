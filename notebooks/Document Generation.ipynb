{
 "cells": [
  {
   "cell_type": "markdown",
   "id": "b562c6ca",
   "metadata": {},
   "source": [
    "# Group 3\n",
    "\n",
    "Dave Carlson, Brooke, Daniel"
   ]
  },
  {
   "cell_type": "markdown",
   "id": "ba1dc153",
   "metadata": {},
   "source": [
    "## Imports and set up LLM client"
   ]
  },
  {
   "cell_type": "code",
   "execution_count": 12,
   "id": "0039e14e",
   "metadata": {},
   "outputs": [
    {
     "name": "stdout",
     "output_type": "stream",
     "text": [
      "c:\\Repos\\Capstone\n"
     ]
    },
    {
     "name": "stderr",
     "output_type": "stream",
     "text": [
      "2025-10-01 18:03:57,406 ag_aisoftdev.utils INFO LLM Client configured provider=openai model=gpt-4o latency_ms=None artifacts_path=None\n"
     ]
    }
   ],
   "source": [
    "import sys\n",
    "import os\n",
    "import json\n",
    "\n",
    "from IPython.display import display, Markdown, Code\n",
    "\n",
    "try:\n",
    "    project_root = os.path.abspath(os.path.join(os.getcwd(), '..'))\n",
    "except IndexError:\n",
    "    project_root = os.path.abspath(os.path.join(os.getcwd()))\n",
    "\n",
    "if project_root not in sys.path:\n",
    "    sys.path.append(project_root)\n",
    "\n",
    "from utils import setup_llm_client, prompt_enhancer, get_completion\n",
    "\n",
    "llm_model = \"gpt-4o\"\n",
    "\n",
    "client, model_name, api_provider = setup_llm_client(llm_model)\n",
    "\n",
    "def display_markdown(text):\n",
    "    display(Markdown(text))\n",
    "\n",
    "def display_code(code, language='json'):\n",
    "    display(Code(code, language=language))\n",
    "\n",
    "write_artifacts = False"
   ]
  },
  {
   "cell_type": "markdown",
   "id": "0d283df3",
   "metadata": {},
   "source": [
    "## Problem Statement"
   ]
  },
  {
   "cell_type": "code",
   "execution_count": 13,
   "id": "17322ab3",
   "metadata": {},
   "outputs": [],
   "source": [
    "problem_statement = \"\"\"\n",
    "I am seeking a web application that can help me manage my personal finances more effectively. \n",
    "- The application should allow me to track my income and expenses, create budgets, and generate reports to visualize my spending patterns. \n",
    "- Additionally, I would like the app to provide reminders for upcoming bills and suggest ways to save money based on my spending habits. \n",
    "- The interface should be user-friendly and accessible from both desktop and mobile devices.\n",
    "\"\"\""
   ]
  },
  {
   "cell_type": "markdown",
   "id": "c510ee36",
   "metadata": {},
   "source": [
    "### Enhanced Problem Statement"
   ]
  },
  {
   "cell_type": "code",
   "execution_count": 19,
   "id": "d6a59c12",
   "metadata": {},
   "outputs": [
    {
     "name": "stderr",
     "output_type": "stream",
     "text": [
      "2025-10-01 18:09:01,884 ag_aisoftdev.utils INFO LLM Client configured provider=openai model=o3 latency_ms=None artifacts_path=None\n"
     ]
    },
    {
     "data": {
      "text/markdown": [
       "<prompt>\n",
       "  <persona>\n",
       "    You are a Senior Personal-Finance Technology Consultant with 10+ years of experience evaluating consumer-grade budgeting and money-management software. Your advice is objective, vendor-agnostic, and grounded in up-to-date product knowledge.\n",
       "  </persona>\n",
       "\n",
       "  <context>\n",
       "    A consumer is searching for a web application to manage personal finances more effectively.  \n",
       "    Required capabilities:  \n",
       "      • Track income and expenses  \n",
       "      • Create budgets  \n",
       "      • Generate visual reports of spending patterns  \n",
       "      • Provide reminders for upcoming bills  \n",
       "      • Suggest personalized ways to save money based on historical spending  \n",
       "    Usability constraints:  \n",
       "      • Interface must be intuitive for non-technical users  \n",
       "      • Accessible from both desktop and mobile (responsive web or companion mobile app)  \n",
       "    Selection constraints:  \n",
       "      • Solutions may be free, freemium, or paid, but must disclose pricing clearly  \n",
       "      • Only products with active development and data-security best practices (e.g., 256-bit encryption, 2FA) are acceptable  \n",
       "  </context>\n",
       "\n",
       "  <instructions>\n",
       "    1. Think step-by-step to identify current market offerings that fully or mostly satisfy the above requirements.  \n",
       "    2. Evaluate at least five candidate web applications.  \n",
       "       • For each, examine feature coverage, UX quality, platform availability, pricing, data-security posture, and unique strengths/weaknesses.  \n",
       "    3. Rank the apps from best fit to least fit for the user’s stated needs, justifying the ranking with explicit reasoning.  \n",
       "    4. Provide a concise, personalized recommendation explaining the single best option and why it stands out.  \n",
       "    5. Offer three actionable money-saving tips that the user can apply immediately, independent of the chosen app.  \n",
       "  </instructions>\n",
       "\n",
       "  <output_format>\n",
       "    Respond in GitHub-flavored Markdown with the following structure:\n",
       "\n",
       "    ## Executive Summary  \n",
       "    *One paragraph overview.*\n",
       "\n",
       "    ## Comparison Table  \n",
       "    | Rank | App Name | Platforms (Web/iOS/Android) | Key Features Met | Pricing Model | Security Highlights | Main Drawback |\n",
       "    |------|----------|----------------------------|------------------|---------------|--------------------|---------------|\n",
       "\n",
       "    ## Detailed Evaluations  \n",
       "    ### 1. *App Name*  \n",
       "    - Coverage of Required Capabilities: …  \n",
       "    - UX & Accessibility: …  \n",
       "    - Pricing: …  \n",
       "    - Security: …  \n",
       "    - Pros: …  \n",
       "    - Cons: …  \n",
       "\n",
       "    *(Repeat for each app)*  \n",
       "\n",
       "    ## Personalized Recommendation  \n",
       "    *Why the top-ranked app is the best fit.*\n",
       "\n",
       "    ## Immediate Money-Saving Tips  \n",
       "    1. …  \n",
       "    2. …  \n",
       "    3. …\n",
       "\n",
       "    Length guideline: ≤900 words total.\n",
       "  </output_format>\n",
       "</prompt>"
      ],
      "text/plain": [
       "<IPython.core.display.Markdown object>"
      ]
     },
     "metadata": {},
     "output_type": "display_data"
    }
   ],
   "source": [
    "enhanced_problem_statement = prompt_enhancer(problem_statement)\n",
    "display_markdown(enhanced_problem_statement)"
   ]
  },
  {
   "cell_type": "markdown",
   "id": "f849523a",
   "metadata": {},
   "source": [
    "## Brainstorm Features"
   ]
  },
  {
   "cell_type": "code",
   "execution_count": null,
   "id": "7827586b",
   "metadata": {},
   "outputs": [
    {
     "data": {
      "text/markdown": [
       "## Executive Summary  \n",
       "For a consumer seeking a web application for effective personal finance management, five top apps have been evaluated: Mint, YNAB (You Need A Budget), Personal Capital, PocketGuard, and EveryDollar. Each app offers a unique blend of features that cater to income and expense tracking, budgeting, visual reporting, bill reminders, and personalized savings suggestions. Considerations include user experience, platform availability, pricing, and data security. YNAB emerges as the best fit, excelling in budgeting and savings insights, though it comes at a cost.\n",
       "\n",
       "## Comparison Table  \n",
       "| Rank | App Name       | Platforms (Web/iOS/Android) | Key Features Met                            | Pricing Model | Security Highlights            | Main Drawback          |\n",
       "|------|----------------|----------------------------|---------------------------------------------|---------------|-------------------------------|------------------------|\n",
       "| 1    | YNAB           | Web, iOS, Android          | Comprehensive budgeting, savings guidance   | Paid          | 256-bit encryption, 2FA       | Higher cost            |\n",
       "| 2    | Mint           | Web, iOS, Android          | Expense tracking, bill reminders, reports   | Freemium      | 256-bit encryption            | Ads in free version    |\n",
       "| 3    | Personal Capital| Web, iOS, Android         | Investment tracking, budgeting              | Freemium      | 256-bit encryption, 2FA       | Focus on investments   |\n",
       "| 4    | PocketGuard    | Web, iOS, Android          | Budgeting, expense tracking, savings tips   | Freemium      | 256-bit encryption            | Limited reporting      |\n",
       "| 5    | EveryDollar    | Web, iOS, Android          | Zero-based budgeting, bill tracking         | Freemium/Paid | 256-bit encryption            | Manual entry for free  |\n",
       "\n",
       "## Detailed Evaluations  \n",
       "### 1. YNAB  \n",
       "- **Coverage of Required Capabilities:** Excellent for budgeting and personalized savings suggestions.  \n",
       "- **UX & Accessibility:** User-friendly with an intuitive interface, well-suited for non-technical users.  \n",
       "- **Pricing:** Subscription-based; offers a 34-day free trial.  \n",
       "- **Security:** Strong security features with 256-bit encryption and 2FA.  \n",
       "- **Pros:** Exceptional for goal-oriented budgeting and proactive financial planning.  \n",
       "- **Cons:** Higher cost compared to competitors.\n",
       "\n",
       "### 2. Mint  \n",
       "- **Coverage of Required Capabilities:** Comprehensive income and expense tracking, budgeting, and reporting.  \n",
       "- **UX & Accessibility:** Simple interface with easy navigation, though ads can be intrusive in the free version.  \n",
       "- **Pricing:** Free with ads; optional premium features.  \n",
       "- **Security:** High-level encryption and security measures.  \n",
       "- **Pros:** Integrates well with a variety of financial accounts.  \n",
       "- **Cons:** Ads can clutter the user experience.\n",
       "\n",
       "### 3. Personal Capital  \n",
       "- **Coverage of Required Capabilities:** Strong in investment tracking with adequate budgeting features.  \n",
       "- **UX & Accessibility:** Clean and professional interface, good for users with investment interests.  \n",
       "- **Pricing:** Free; advisory services available at a cost.  \n",
       "- **Security:** Robust security with 2FA and top-tier encryption.  \n",
       "- **Pros:** Excellent for users focused on investments and net worth tracking.  \n",
       "- **Cons:** Less focused on day-to-day budgeting.\n",
       "\n",
       "### 4. PocketGuard  \n",
       "- **Coverage of Required Capabilities:** Effective for budgeting and tracking with simple savings advice.  \n",
       "- **UX & Accessibility:** User-friendly and straightforward design.  \n",
       "- **Pricing:** Free version available with optional premium features.  \n",
       "- **Security:** Uses standard encryption protocols.  \n",
       "- **Pros:** Easy-to-use interface with a focus on controlling spending.  \n",
       "- **Cons:** Limited in-depth reporting and insights.\n",
       "\n",
       "### 5. EveryDollar  \n",
       "- **Coverage of Required Capabilities:** Basic budgeting and expense tracking, with paid version needed for automation.  \n",
       "- **UX & Accessibility:** Simplistic, easy-to-use design but requires manual data entry in free version.  \n",
       "- **Pricing:** Free for basic features; premium for automated bank import.  \n",
       "- **Security:** Solid encryption standards.  \n",
       "- **Pros:** Ideal for users preferring zero-based budgeting.  \n",
       "- **Cons:** Manual input can be time-consuming without the premium version.\n",
       "\n",
       "## Personalized Recommendation  \n",
       "YNAB stands out as the best option due to its comprehensive approach to budgeting and savings, making it ideal for users seeking to gain control over their finances with personalized insights. Its robust security measures and user-friendly design further enhance its appeal, despite the higher price point.\n",
       "\n",
       "## Immediate Money-Saving Tips  \n",
       "1. **Automate Savings:** Set up automatic transfers to a savings account to ensure consistent saving without manual intervention.\n",
       "2. **Cut Subscription Services:** Review and cancel any unused or underused subscription services to reduce monthly expenses.\n",
       "3. **Plan Meals:** Create a weekly meal plan to avoid impulsive dining out and reduce grocery costs through planned purchases."
      ],
      "text/plain": [
       "<IPython.core.display.Markdown object>"
      ]
     },
     "metadata": {},
     "output_type": "display_data"
    }
   ],
   "source": [
    "# Set the output directory based on API provider and model\n",
    "output_dir = f\"../artifacts/documents/{api_provider}/{llm_model}\"\n",
    "os.makedirs(output_dir, exist_ok=True)\n",
    "\n",
    "# Brainstorm features prompt\n",
    "brainstorm_prompt = f\"\"\"\n",
    "Based on the problem statement, brainstorm a list of potential features that could address the problem.\n",
    "- Keep the list concise and focused on high-impact features.\n",
    "- Provide a brief description for each feature.\n",
    "- Format the output in a markdown list format without the ```markdown``` fences.\n",
    "\n",
    "<Problem Statement>\n",
    "{enhanced_problem_statement}\n",
    "</Problem Statement>\n",
    "\"\"\"\n",
    "\n",
    "brainstormed_features = get_completion(brainstorm_prompt, client, model_name, api_provider)\n",
    "display(Markdown(brainstormed_features))\n",
    "\n",
    "if write_artifacts:\n",
    "    with open(os.path.join(output_dir, \"brainstormed_features.md\"), \"w\") as f:\n",
    "        f.write(brainstormed_features)"
   ]
  },
  {
   "cell_type": "markdown",
   "id": "67d3e87e",
   "metadata": {},
   "source": [
    "## Generate User Personas"
   ]
  },
  {
   "cell_type": "code",
   "execution_count": 22,
   "id": "95bd2840",
   "metadata": {},
   "outputs": [
    {
     "data": {
      "text/markdown": [
       "- **Name:** Emily Thompson  \n",
       "  **Role:** College Student  \n",
       "  **Experience Level:** Beginner in personal finance management  \n",
       "  **Goals:**  \n",
       "  - Gain control over monthly spending  \n",
       "  - Save money for future educational expenses  \n",
       "  - Understand personal spending habits  \n",
       "  **Challenges:**  \n",
       "  - Limited budgeting knowledge  \n",
       "  - Needs an intuitive tool that requires minimal setup  \n",
       "  **How this tool can help:**  \n",
       "  - Offers simple, visual reports to understand spending patterns  \n",
       "  - Provides reminders for upcoming bills, helping to avoid late fees  \n",
       "  - Suggests personalized ways to save money, which is crucial for a student budget  \n",
       "\n",
       "- **Name:** Michael Rivera  \n",
       "  **Role:** Small Business Owner  \n",
       "  **Experience Level:** Intermediate with financial tracking for business  \n",
       "  **Goals:**  \n",
       "  - Separate personal and business finances  \n",
       "  - Ensure personal financial health is maintained alongside business growth  \n",
       "  - Create a personal emergency fund  \n",
       "  **Challenges:**  \n",
       "  - Balancing time between managing business and personal finances  \n",
       "  - Requires a reliable tool with strong security measures  \n",
       "  **How this tool can help:**  \n",
       "  - Allows for efficient tracking of personal income and expenses  \n",
       "  - Offers robust security features, ensuring data protection  \n",
       "  - Provides savings suggestions tailored to personal spending, aiding in building an emergency fund  \n",
       "\n",
       "- **Name:** Sarah Lee  \n",
       "  **Role:** Retired Professional  \n",
       "  **Experience Level:** Experienced in managing retirement funds  \n",
       "  **Goals:**  \n",
       "  - Maintain a fixed budget with a focus on savings  \n",
       "  - Monitor spending to stretch retirement funds  \n",
       "  - Simplify financial management with minimal technical complexity  \n",
       "  **Challenges:**  \n",
       "  - Adapting to new technology  \n",
       "  - Requires clear insights without overwhelming data  \n",
       "  **How this tool can help:**  \n",
       "  - Offers easy-to-navigate interface suitable for non-technical users  \n",
       "  - Generates clear visual reports, aiding in monitoring spending patterns  \n",
       "  - Provides personalized savings insights, helping to optimize retirement funds  \n",
       "\n",
       "- **Name:** David Chen  \n",
       "  **Role:** Software Engineer  \n",
       "  **Experience Level:** Advanced in using tech solutions for personal finance  \n",
       "  **Goals:**  \n",
       "  - Optimize savings for future investments  \n",
       "  - Track expenses meticulously  \n",
       "  - Integrate financial management into daily routine seamlessly  \n",
       "  **Challenges:**  \n",
       "  - Finding a tool that offers detailed analytics  \n",
       "  - Needs a platform that integrates well with other financial tools  \n",
       "  **How this tool can help:**  \n",
       "  - Provides comprehensive budgeting and detailed spending reports  \n",
       "  - Offers mobile and desktop access, fitting into a tech-savvy lifestyle  \n",
       "  - Suggests investment opportunities based on spending habits  \n",
       "\n",
       "- **Name:** Rachel Adams  \n",
       "  **Role:** Stay-at-home Parent  \n",
       "  **Experience Level:** Basic financial management skills  \n",
       "  **Goals:**  \n",
       "  - Manage household budget effectively  \n",
       "  - Save for family vacations and child education  \n",
       "  - Ensure all bills are paid on time  \n",
       "  **Challenges:**  \n",
       "  - Juggling multiple family expenses  \n",
       "  - Needs simple reminders and budget tracking  \n",
       "  **How this tool can help:**  \n",
       "  - Tracks income and expenses efficiently  \n",
       "  - Provides timely reminders for bill payments  \n",
       "  - Offers budget planning tools, aiding in saving for family goals"
      ],
      "text/plain": [
       "<IPython.core.display.Markdown object>"
      ]
     },
     "metadata": {},
     "output_type": "display_data"
    }
   ],
   "source": [
    "personas_prompt = f\"\"\"\n",
    "<Prompt Instructions>\n",
    "Based on the problem statement and the brainstormed features, identify at least three, but no more than five, unique user personas who would benefit from this tool. \n",
    "- The roles and their experience should vary between each persona. \n",
    "- Include a mix of technical and non-technical users.\n",
    "- Provide the following for each persona:\n",
    "  - Name\n",
    "  - Role\n",
    "  - Experience Level\n",
    "  - Goals\n",
    "  - Challenges\n",
    "  - How this tool can help\n",
    "- Format the output in a markdown list format without the ```markdown``` fences.\n",
    "</Prompt Instructions>\n",
    "\n",
    "<Problem Statement>   \n",
    "{enhanced_problem_statement}\n",
    "</Problem Statement>\n",
    "\n",
    "<Brainstormed Features>\n",
    "{brainstormed_features}\n",
    "</Brainstormed Features>\"\"\"\n",
    "\n",
    "user_personas = get_completion(personas_prompt, client, model_name, api_provider)\n",
    "display_markdown(user_personas)\n",
    "\n",
    "if write_artifacts:\n",
    "    with open(os.path.join(output_dir, \"user_personas.md\"), \"w\") as f:\n",
    "        f.write(user_personas)"
   ]
  },
  {
   "cell_type": "markdown",
   "id": "26be3d1c",
   "metadata": {},
   "source": [
    "## Generate User Stories"
   ]
  },
  {
   "cell_type": "code",
   "execution_count": null,
   "id": "1d53a936",
   "metadata": {},
   "outputs": [],
   "source": []
  }
 ],
 "metadata": {
  "kernelspec": {
   "display_name": ".venv",
   "language": "python",
   "name": "python3"
  },
  "language_info": {
   "codemirror_mode": {
    "name": "ipython",
    "version": 3
   },
   "file_extension": ".py",
   "mimetype": "text/x-python",
   "name": "python",
   "nbconvert_exporter": "python",
   "pygments_lexer": "ipython3",
   "version": "3.11.9"
  }
 },
 "nbformat": 4,
 "nbformat_minor": 5
}
